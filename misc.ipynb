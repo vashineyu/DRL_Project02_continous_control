{
 "cells": [
  {
   "cell_type": "code",
   "execution_count": 2,
   "metadata": {},
   "outputs": [],
   "source": [
    "import os\n",
    "import tensorflow as tf\n",
    "import numpy as np\n",
    "\n",
    "os.environ['CUDA_VISIBLE_DEVICES'] = \"-1\""
   ]
  },
  {
   "cell_type": "code",
   "execution_count": 5,
   "metadata": {},
   "outputs": [],
   "source": [
    "trainable = True\n",
    "neurons_per_layer = [64,64,32]\n",
    "\n",
    "tf.reset_default_graph()\n",
    "\n",
    "state = tf.placeholder(shape = [None, 33], dtype = tf.float32)\n",
    "next_state = tf.placeholder(shape = [None, 33], dtype = tf.float32)\n",
    "action = tf.placeholder(shape = [None, 4], dtype = tf.float32)\n",
    "\n",
    "def mlp_block(x, units, trainable):\n",
    "    x = tf.layers.dense(x, units, trainable = trainable)\n",
    "    x = tf.nn.relu(x)\n",
    "    return x\n",
    "        \n",
    "for i, n in enumerate(neurons_per_layer):\n",
    "    if i == 0:\n",
    "        x = mlp_block(state, n, trainable)\n",
    "    else:\n",
    "        x = mlp_block(x, n, trainable)\n",
    "x_a = tf.layers.dense(action, 64, trainable = trainable)\n",
    "x = tf.concat([x, x_a], axis = 1)\n",
    "\n",
    "out = tf.layers.dense(x, 4, trainable = trainable)\n"
   ]
  },
  {
   "cell_type": "code",
   "execution_count": 12,
   "metadata": {},
   "outputs": [
    {
     "data": {
      "text/plain": [
       "[0, 0, 0, 0]"
      ]
     },
     "execution_count": 12,
     "metadata": {},
     "output_type": "execute_result"
    }
   ],
   "source": [
    "[0] * 4"
   ]
  }
 ],
 "metadata": {
  "kernelspec": {
   "display_name": "Python 3",
   "language": "python",
   "name": "python3"
  },
  "language_info": {
   "codemirror_mode": {
    "name": "ipython",
    "version": 3
   },
   "file_extension": ".py",
   "mimetype": "text/x-python",
   "name": "python",
   "nbconvert_exporter": "python",
   "pygments_lexer": "ipython3",
   "version": "3.6.3"
  }
 },
 "nbformat": 4,
 "nbformat_minor": 2
}
